{
 "cells": [
  {
   "cell_type": "code",
   "execution_count": 1,
   "id": "ff4f2a7d",
   "metadata": {},
   "outputs": [],
   "source": [
    "import pandas as pd \n",
    "from datetime import datetime\n",
    "from config import Config\n",
    "auth_token = Config.CONVOSO_TOKEN\n",
    "\n",
    "#Subir lista de estimate\n",
    "df=pd.read_csv(\"files/LISTS_MEXICO_TELE_TX_6_10.csv\")\n",
    "\n",
    "df.columns = df.columns.str.strip()\n",
    "df.columns = df.columns.str.strip().str.lower()\n",
    "\n",
    "today = datetime.today().date()\n",
    "MEETING_STATUS  = [\"MTS\", \"MTC\", \"SCFU\", \"CCFU\"]\n",
    "LIST_ID=9707\n",
    "\n",
    "\n",
    "required_fields = [\"name\", \"phone1\", \"address\",  \"job\"]\n",
    "optional_fields = [\"city\", \"state\", \"zip\",\"phone2\", \"email\"]"
   ]
  },
  {
   "cell_type": "code",
   "execution_count": null,
   "id": "060c13fa",
   "metadata": {},
   "outputs": [],
   "source": [
    "df.columns"
   ]
  },
  {
   "cell_type": "code",
   "execution_count": 3,
   "id": "31c2d28a",
   "metadata": {},
   "outputs": [],
   "source": [
    "df.columns = ['phone1', 'phone2', 'phone3', 'name', 'address', 'city', 'state',\n",
    "       'zip', 'job']"
   ]
  },
  {
   "cell_type": "code",
   "execution_count": null,
   "id": "3d210327",
   "metadata": {},
   "outputs": [],
   "source": [
    "df.head()"
   ]
  },
  {
   "cell_type": "code",
   "execution_count": 5,
   "id": "9f8f423b",
   "metadata": {},
   "outputs": [],
   "source": [
    "list_phones=df['phone1']"
   ]
  },
  {
   "cell_type": "code",
   "execution_count": null,
   "id": "c80f7ac7",
   "metadata": {},
   "outputs": [],
   "source": [
    "list_phones"
   ]
  },
  {
   "cell_type": "code",
   "execution_count": null,
   "id": "8fd3a00c",
   "metadata": {},
   "outputs": [],
   "source": [
    "# TO-DO Improve prints and put Bar\n",
    "from convoso.scripts import upload_lists\n",
    "\n",
    "upload_lists(\n",
    "    df=df[-4:],\n",
    "    date=today,\n",
    "    meetings_status=MEETING_STATUS,\n",
    "    list_id= LIST_ID,\n",
    "    auth_token=auth_token,\n",
    "    required_fields=required_fields,\n",
    "    optional_fields=optional_fields,\n",
    "    check_dup_create=1,\n",
    "    check_dup_update=0\n",
    ")"
   ]
  }
 ],
 "metadata": {
  "kernelspec": {
   "display_name": "venv",
   "language": "python",
   "name": "python3"
  },
  "language_info": {
   "codemirror_mode": {
    "name": "ipython",
    "version": 3
   },
   "file_extension": ".py",
   "mimetype": "text/x-python",
   "name": "python",
   "nbconvert_exporter": "python",
   "pygments_lexer": "ipython3",
   "version": "3.12.7"
  }
 },
 "nbformat": 4,
 "nbformat_minor": 5
}
