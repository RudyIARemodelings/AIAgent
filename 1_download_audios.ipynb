{
 "cells": [
  {
   "cell_type": "code",
   "execution_count": 1,
   "id": "8f1099d4",
   "metadata": {},
   "outputs": [],
   "source": [
    "from config import Config\n",
    "import pandas as pd\n",
    "from config import Config\n",
    "from convoso.scripts import call_log_search\n",
    "\n",
    "# Obtener el token desde la configuración\n",
    "auth_token = Config.CONVOSO_TOKEN"
   ]
  },
  {
   "cell_type": "code",
   "execution_count": 32,
   "id": "27ff751b",
   "metadata": {},
   "outputs": [],
   "source": [
    "# from convoso import lead_search\n",
    "# columns = [\n",
    "#     \"lead_id\",\n",
    "#     \"status\",\n",
    "#     \"solidity\",\n",
    "# ]\n",
    "\n",
    "# df_leads = lead_search(\n",
    "#     auth_token=auth_token, \n",
    "#     columns_required=columns,\n",
    "#     limit=300,\n",
    "#     solidity = 'S',\n",
    "# )\n",
    "\n",
    "# call_log_lead_ids = list(df_leads['lead_id'])\n",
    "\n",
    "# print( df_leads.shape)\n",
    "# print(len(call_log_lead_ids))\n",
    "\n",
    "# df_leads.to_csv(\"df_leads.csv\", index=False, encoding=\"utf-8\")\n"
   ]
  },
  {
   "cell_type": "code",
   "execution_count": null,
   "id": "f84f2b65",
   "metadata": {},
   "outputs": [],
   "source": [
    "\n",
    "# Llamada al método con rango de fechas: desde hace 4 días hasta ayer\n",
    "df_call_logs = call_log_search(\n",
    "    auth_token=auth_token,\n",
    "    days_back_start=20,\n",
    "    days_back_end=1,\n",
    "    limit=1000,\n",
    "    status=\"MTS\"  \n",
    ")\n",
    "\n",
    "call_log_lead_ids = list(df_call_logs['lead_id'])"
   ]
  },
  {
   "cell_type": "code",
   "execution_count": null,
   "id": "875ba695",
   "metadata": {},
   "outputs": [],
   "source": [
    "df_call_logs.head()"
   ]
  },
  {
   "cell_type": "code",
   "execution_count": null,
   "id": "5319b3ec",
   "metadata": {},
   "outputs": [],
   "source": [
    "print(df_call_logs.shape) \n",
    "print(len(call_log_lead_ids))"
   ]
  },
  {
   "cell_type": "code",
   "execution_count": 5,
   "id": "9dfaaf88",
   "metadata": {},
   "outputs": [],
   "source": [
    "from convoso import lead_search\n",
    "columns = [\n",
    "    \"lead_id\",\n",
    "    \"status\",\n",
    "    \"solidity\",\n",
    "]\n",
    "\n",
    "df_leads = lead_search(auth_token=auth_token, limit=1000 ,columns_required=columns,lead_id = call_log_lead_ids )"
   ]
  },
  {
   "cell_type": "code",
   "execution_count": null,
   "id": "706234f1",
   "metadata": {},
   "outputs": [],
   "source": [
    "df_leads.shape"
   ]
  },
  {
   "cell_type": "code",
   "execution_count": null,
   "id": "91a036c3",
   "metadata": {},
   "outputs": [],
   "source": [
    "merged_df = pd.merge(df_call_logs, df_leads, on='lead_id', how='left')\n",
    "merged_df.head()"
   ]
  },
  {
   "cell_type": "code",
   "execution_count": null,
   "id": "c0474b47",
   "metadata": {},
   "outputs": [],
   "source": [
    "merged_df.shape"
   ]
  },
  {
   "cell_type": "code",
   "execution_count": null,
   "id": "2f6307fb",
   "metadata": {},
   "outputs": [],
   "source": [
    "df_filtered = merged_df[merged_df['solidity'] == 'S']\n",
    "df_filtered.shape"
   ]
  },
  {
   "cell_type": "code",
   "execution_count": null,
   "id": "de2a3292",
   "metadata": {},
   "outputs": [],
   "source": [
    "df_filtered.head()"
   ]
  },
  {
   "cell_type": "code",
   "execution_count": 11,
   "id": "1b2e6359",
   "metadata": {},
   "outputs": [],
   "source": [
    "df_filtered.to_csv(\"df_filtered_solidity_s.csv\", index=False, encoding=\"utf-8\")"
   ]
  },
  {
   "cell_type": "code",
   "execution_count": null,
   "id": "385aeb72",
   "metadata": {},
   "outputs": [],
   "source": [
    "df_filtered"
   ]
  },
  {
   "cell_type": "code",
   "execution_count": null,
   "id": "3398ecc4",
   "metadata": {},
   "outputs": [],
   "source": [
    "from scripts.call_transcriptor import download_recordings_from_df\n",
    "\n",
    "download_recordings_from_df(df_filtered)"
   ]
  }
 ],
 "metadata": {
  "kernelspec": {
   "display_name": "venv",
   "language": "python",
   "name": "python3"
  },
  "language_info": {
   "codemirror_mode": {
    "name": "ipython",
    "version": 3
   },
   "file_extension": ".py",
   "mimetype": "text/x-python",
   "name": "python",
   "nbconvert_exporter": "python",
   "pygments_lexer": "ipython3",
   "version": "3.12.7"
  }
 },
 "nbformat": 4,
 "nbformat_minor": 5
}
