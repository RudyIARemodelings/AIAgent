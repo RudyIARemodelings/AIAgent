{
 "cells": [
  {
   "cell_type": "code",
   "execution_count": 1,
   "id": "8a75a096",
   "metadata": {},
   "outputs": [],
   "source": [
    "from config import Config\n",
    "import pandas as pd\n",
    "from config import Config\n",
    "from convoso.scripts import call_log_search\n",
    "\n",
    "# Obtener el token desde la configuración\n",
    "auth_token = Config.ASSEMBLY_TOKEN"
   ]
  },
  {
   "cell_type": "code",
   "execution_count": null,
   "id": "40117786",
   "metadata": {},
   "outputs": [],
   "source": []
  }
 ],
 "metadata": {
  "kernelspec": {
   "display_name": "venv",
   "language": "python",
   "name": "python3"
  },
  "language_info": {
   "codemirror_mode": {
    "name": "ipython",
    "version": 3
   },
   "file_extension": ".py",
   "mimetype": "text/x-python",
   "name": "python",
   "nbconvert_exporter": "python",
   "pygments_lexer": "ipython3",
   "version": "3.12.7"
  }
 },
 "nbformat": 4,
 "nbformat_minor": 5
}
