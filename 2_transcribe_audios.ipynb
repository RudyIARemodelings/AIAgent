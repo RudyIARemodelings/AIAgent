{
 "cells": [
  {
   "cell_type": "code",
   "execution_count": 1,
   "id": "8a75a096",
   "metadata": {},
   "outputs": [],
   "source": [
    "from config import Config\n",
    "import pandas as pd\n",
    "from config import Config\n",
    "from convoso.scripts import call_log_search\n",
    "\n",
    "# Obtener el token desde la configuración\n",
    "auth_token = Config.ASSEMBLY_TOKEN"
   ]
  },
  {
   "cell_type": "code",
   "execution_count": 2,
   "id": "40117786",
   "metadata": {},
   "outputs": [
    {
     "name": "stdout",
     "output_type": "stream",
     "text": [
      "📁 Subiendo archivo: ./audios/376749.mp3\n",
      "✅ Audio subido. URL: https://cdn.assemblyai.com/upload/e661b47a-21cc-451f-9ce8-04025f9a1b26\n",
      "📡 Transcripción iniciada. ID: 0bc1c4b2-05c8-43b0-a537-1c067e847cab\n",
      "⌛ Esperando transcripción...\n",
      "⌛ Esperando transcripción...\n",
      "✅ Transcripción completada.\n",
      "Speaker A: Hello?\n",
      "Speaker B: Yeah, you called me.\n",
      "Speaker A: How we doing today, sir?\n",
      "Speaker B: Who are you?\n",
      "Speaker A: My name is Luis Glass. I spoke to you about a project for your home with a fence. You mentioned maybe try back towards the end of the month. I was hoping you could give us the opportunity, if you're still looking to get some bits. My main goal is to give you something most important within your budget. Of course, your taste and your liking. Sir, we are local, from Linwood. And if you give us the opportunity, I'll be more than happy to assist.\n",
      "Speaker B: You if your price is right.\n",
      "Speaker A: Ah, that. That is my main goal. No other way.\n",
      "Speaker B: Yeah, because I know what the material cost. Because somebody came by and gave me an estimate for $30,000 for. For a two foot fit fits all the way around. And I look at them like they were crazy. I mean, 30,000.\n",
      "Speaker A: I tell you what, man, that. That even makes me want to laugh. Like it makes my job even easier, you know, because this people. The only thing I could tell you is I'm gonna save you some money. You know, all these fires that we recently had. The price of lumber and wood is outrageous right now. Before summer prices will still increase. I could give you an estimate now that it's valid for a full year. The discounts we still have available for today. So today for this whole month, for Mother's Day and Memorial Day weekend, we still have those available. My main goal is so you could give me the blessings to the job that the only way I'm gonna do that is by landing this project within your budget. No other way.\n",
      "Speaker B: Let's see. I'm be doing plastic.\n",
      "Speaker A: All right.\n",
      "Speaker B: Yeah, but I'm gonna have to call you back because I'm at work and my boss is pulling up.\n",
      "Speaker A: What time do you usually get off work? I was hoping that if not today, I work a midday only. Give me the opportunity to stop by Sunday. I already got all the information I need and just. I just need a yes and maybe between 12, 3 o' clock. About 3 o' clock Sunday.\n",
      "Speaker B: No, today I get off at 3. Sunday I'll be out of town.\n",
      "Speaker A: Okay, can we do this Monday.\n",
      "Speaker B: About 3 o' clock?\n",
      "Speaker A: I tell you what, I'll put it in for four. That gives you enough time to come home. I'll make sure I give you a call. Is that okay with you?\n",
      "Speaker B: That's fine.\n",
      "Speaker A: I appreciate you. I spoke to you before. Sorry. Got all the information. I know that this is a residential. I know that this is a no insurance claim. And it is on seven. I mean 373 East 71st Street, 61st Street. 61st Street, Long Beach, California. And I am speaking with Benny, correct? Yeah, you got it, boss. And is your wife going to be available that day as well, give you a separate discount, having both homeowners present?\n",
      "Speaker B: No, it really don't need her. I make all the decisions on that. And she might or she might not. I can't tell you that.\n",
      "Speaker A: So, okay, let me ask you this. Will you be needing financing options for this or in budget planning or.\n",
      "Speaker B: No, no, no, no.\n",
      "Speaker A: You got it. One last question for the road. We have a great discount. It could be Maybe even a 5% discount just on top of the discounts that we have available if you own your own home or do you have a mortgage?\n",
      "Speaker B: I have a mortgage.\n",
      "Speaker A: Is it under 10 years?\n",
      "Speaker B: Yes, it is now.\n",
      "Speaker A: Congratulations. Let us see what we could do for you. We'll give you a call Monday, so we could be there around four, between three? Between four. Maybe a little bit past four. Gives you enough time to be home. I'll put in my nose that you'll be home by three. Okay. And is this the best number we could reach you to stop by?\n",
      "Speaker B: Yeah, yeah.\n",
      "Speaker A: And are you open for ideas for your fence? I know you mentioned plastic, which is vinyl. And then if you're open, maybe we have a different material that's less expensive, more compatible with all the weather that we have. Maybe we see something different within your budget. Are you open for ideas? Give me the opportunity.\n",
      "Speaker B: Yeah, yeah, we'll. We'll. We'll talk about it, but I got really got to go right now.\n",
      "Speaker A: All right, buddy. No, it's good, it's good. All right, buddy. Thank you. Bye. Bye.\n"
     ]
    }
   ],
   "source": [
    "from assemblyAI.scripts import get_transcription_diarization\n",
    "\n",
    "transcription = get_transcription_diarization( auth_token=auth_token, audio_file=\"./audios/376749.mp3\" )"
   ]
  }
 ],
 "metadata": {
  "kernelspec": {
   "display_name": "venv",
   "language": "python",
   "name": "python3"
  },
  "language_info": {
   "codemirror_mode": {
    "name": "ipython",
    "version": 3
   },
   "file_extension": ".py",
   "mimetype": "text/x-python",
   "name": "python",
   "nbconvert_exporter": "python",
   "pygments_lexer": "ipython3",
   "version": "3.12.7"
  }
 },
 "nbformat": 4,
 "nbformat_minor": 5
}
